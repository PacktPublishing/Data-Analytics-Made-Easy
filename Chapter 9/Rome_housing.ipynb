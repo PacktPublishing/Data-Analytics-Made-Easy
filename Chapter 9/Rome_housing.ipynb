{
  "nbformat": 4,
  "nbformat_minor": 0,
  "metadata": {
    "colab": {
      "name": "Rome_housing - simplified.ipynb",
      "provenance": [],
      "collapsed_sections": [],
      "mount_file_id": "1pekR7EMfgKNx1rMbbTXhvwh3sT3nNlPj",
      "authorship_tag": "ABX9TyPXYXW+1rD9VwdFrz5a07kH",
      "include_colab_link": true
    },
    "kernelspec": {
      "name": "python3",
      "display_name": "Python 3"
    },
    "language_info": {
      "name": "python"
    }
  },
  "cells": [
    {
      "cell_type": "markdown",
      "metadata": {
        "id": "view-in-github",
        "colab_type": "text"
      },
      "source": [
        "<a href=\"https://colab.research.google.com/github/laibniz/AnalyticsMadeEasy/blob/main/Rome_housing.ipynb\" target=\"_parent\"><img src=\"https://colab.research.google.com/assets/colab-badge.svg\" alt=\"Open In Colab\"/></a>"
      ]
    },
    {
      "cell_type": "markdown",
      "metadata": {
        "id": "2VJSpt7InUhd"
      },
      "source": [
        "The first step is to import some useful libraries into the Python environment. This will make a few extra functionalities (like loading Excel files and calculating a linear regression) available for us to leverage in our code. "
      ]
    },
    {
      "cell_type": "code",
      "metadata": {
        "id": "W7FxnrFeMTgE"
      },
      "source": [
        "import pandas as pd # Import library for data manipulation\n",
        "import numpy as np # Import library for mathematical functions\n",
        "import statsmodels.formula.api as smf # Import library for statistical modeling\n",
        "from sklearn.model_selection import train_test_split # Import partitioning function\n",
        "from sklearn.metrics import r2_score, mean_squared_error # Import scoring functions"
      ],
      "execution_count": null,
      "outputs": []
    },
    {
      "cell_type": "markdown",
      "metadata": {
        "id": "kAzblNZxodQs"
      },
      "source": [
        "We read the data stored in an Excel file by using the `pd.read_excel()` function. We can check the imported table by visualizing its top five rows, using function `head()`."
      ]
    },
    {
      "cell_type": "code",
      "metadata": {
        "id": "rBWBwSAoNAzA",
        "colab": {
          "base_uri": "https://localhost:8080/",
          "height": 202
        },
        "outputId": "6f04946a-b97c-45d5-c728-68b04e77df70"
      },
      "source": [
        "full_data = pd.read_excel(\"https://github.com/laibniz/AnalyticsMadeEasy/raw/main/RomeHousing-History.xlsx\") # Load full data from Excel\n",
        "full_data.head() # Preview of data"
      ],
      "execution_count": 2,
      "outputs": [
        {
          "output_type": "execute_result",
          "data": {
            "text/html": [
              "<div>\n",
              "<style scoped>\n",
              "    .dataframe tbody tr th:only-of-type {\n",
              "        vertical-align: middle;\n",
              "    }\n",
              "\n",
              "    .dataframe tbody tr th {\n",
              "        vertical-align: top;\n",
              "    }\n",
              "\n",
              "    .dataframe thead th {\n",
              "        text-align: right;\n",
              "    }\n",
              "</style>\n",
              "<table border=\"1\" class=\"dataframe\">\n",
              "  <thead>\n",
              "    <tr style=\"text-align: right;\">\n",
              "      <th></th>\n",
              "      <th>House_ID</th>\n",
              "      <th>Neighborhood</th>\n",
              "      <th>Property_type</th>\n",
              "      <th>Rooms</th>\n",
              "      <th>Surface</th>\n",
              "      <th>Elevator</th>\n",
              "      <th>Floor_type</th>\n",
              "      <th>Floor_number</th>\n",
              "      <th>Rent</th>\n",
              "    </tr>\n",
              "  </thead>\n",
              "  <tbody>\n",
              "    <tr>\n",
              "      <th>0</th>\n",
              "      <td>103501</td>\n",
              "      <td>Cassia</td>\n",
              "      <td>Flat</td>\n",
              "      <td>2</td>\n",
              "      <td>65</td>\n",
              "      <td>0</td>\n",
              "      <td>Upper</td>\n",
              "      <td>2.0</td>\n",
              "      <td>900</td>\n",
              "    </tr>\n",
              "    <tr>\n",
              "      <th>1</th>\n",
              "      <td>105122</td>\n",
              "      <td>Collatino</td>\n",
              "      <td>Flat</td>\n",
              "      <td>2</td>\n",
              "      <td>30</td>\n",
              "      <td>1</td>\n",
              "      <td>Ground floor</td>\n",
              "      <td>0.0</td>\n",
              "      <td>500</td>\n",
              "    </tr>\n",
              "    <tr>\n",
              "      <th>2</th>\n",
              "      <td>104125</td>\n",
              "      <td>Collatino</td>\n",
              "      <td>Flat</td>\n",
              "      <td>3</td>\n",
              "      <td>80</td>\n",
              "      <td>1</td>\n",
              "      <td>Upper</td>\n",
              "      <td>4.0</td>\n",
              "      <td>950</td>\n",
              "    </tr>\n",
              "    <tr>\n",
              "      <th>3</th>\n",
              "      <td>104675</td>\n",
              "      <td>Infernetto</td>\n",
              "      <td>Flat</td>\n",
              "      <td>3</td>\n",
              "      <td>75</td>\n",
              "      <td>0</td>\n",
              "      <td>Upper</td>\n",
              "      <td>2.0</td>\n",
              "      <td>800</td>\n",
              "    </tr>\n",
              "    <tr>\n",
              "      <th>4</th>\n",
              "      <td>102481</td>\n",
              "      <td>Ostia</td>\n",
              "      <td>Flat</td>\n",
              "      <td>3</td>\n",
              "      <td>70</td>\n",
              "      <td>1</td>\n",
              "      <td>Ground floor</td>\n",
              "      <td>0.0</td>\n",
              "      <td>800</td>\n",
              "    </tr>\n",
              "  </tbody>\n",
              "</table>\n",
              "</div>"
            ],
            "text/plain": [
              "   House_ID Neighborhood Property_type  ...    Floor_type  Floor_number  Rent\n",
              "0    103501       Cassia          Flat  ...         Upper           2.0   900\n",
              "1    105122    Collatino          Flat  ...  Ground floor           0.0   500\n",
              "2    104125    Collatino          Flat  ...         Upper           4.0   950\n",
              "3    104675   Infernetto          Flat  ...         Upper           2.0   800\n",
              "4    102481        Ostia          Flat  ...  Ground floor           0.0   800\n",
              "\n",
              "[5 rows x 9 columns]"
            ]
          },
          "metadata": {
            "tags": []
          },
          "execution_count": 2
        }
      ]
    },
    {
      "cell_type": "markdown",
      "metadata": {
        "id": "bIg1jYF3pAM8"
      },
      "source": [
        "Let's partition the full data set into a training and a test data set through random sampling, leveraging the function `train_test_split()`. "
      ]
    },
    {
      "cell_type": "code",
      "metadata": {
        "id": "UG-4TBmPOf7C"
      },
      "source": [
        "train_set, test_set = train_test_split(full_data, test_size=0.3) # 70% training and 30% test partitioning"
      ],
      "execution_count": 3,
      "outputs": []
    },
    {
      "cell_type": "markdown",
      "metadata": {
        "id": "O2rVyfyOpUQU"
      },
      "source": [
        "We can now proceed with training the model through an **Ordinary Least Square** regression which is implemented in function `smf.ols()`. \n",
        "You can edit the formula string you find in the code (`Rent ~ Rooms + Surface + ...`) to select which column is the target (in our case `Rent`) and which other columns should be used as predictors in the linear regression. Categorical columns need to be encapsulated by the `C()` function (like in `C(Neighborhood)`): by doing so, Python converts them into multiple numerical columns (**Dummy variables**) that are compatible with a linear regression model. Finally, the `summary()` function produces a summary of the regression results, including coefficients and p-values for each feature."
      ]
    },
    {
      "cell_type": "code",
      "metadata": {
        "id": "4pJlO88NOqJQ",
        "colab": {
          "base_uri": "https://localhost:8080/"
        },
        "outputId": "5a151bdd-5609-4ae4-e850-82b5bb33bb3e"
      },
      "source": [
        "model = smf.ols (formula='Rent ~ Rooms + Surface + Elevator + Floor_number + \\\n",
        "                                 C(Neighborhood) + C(Property_type) + \\\n",
        "                                 C(Floor_type)',data=train_set).fit() # Train the model\n",
        "print(model.summary()) # Display model statistics and coefficients"
      ],
      "execution_count": 4,
      "outputs": [
        {
          "output_type": "stream",
          "text": [
            "                            OLS Regression Results                            \n",
            "==============================================================================\n",
            "Dep. Variable:                   Rent   R-squared:                       0.931\n",
            "Model:                            OLS   Adj. R-squared:                  0.930\n",
            "Method:                 Least Squares   F-statistic:                     1282.\n",
            "Date:                Sun, 25 Jul 2021   Prob (F-statistic):               0.00\n",
            "Time:                        13:20:20   Log-Likelihood:                -17145.\n",
            "No. Observations:                2800   AIC:                         3.435e+04\n",
            "Df Residuals:                    2770   BIC:                         3.453e+04\n",
            "Df Model:                          29                                         \n",
            "Covariance Type:            nonrobust                                         \n",
            "======================================================================================================\n",
            "                                         coef    std err          t      P>|t|      [0.025      0.975]\n",
            "------------------------------------------------------------------------------------------------------\n",
            "Intercept                            575.6590     22.246     25.877      0.000     532.039     619.279\n",
            "C(Neighborhood)[T.Cassia]           -359.8506     22.260    -16.166      0.000    -403.499    -316.202\n",
            "C(Neighborhood)[T.Castelli Romani]  -702.3844     21.676    -32.404      0.000    -744.886    -659.882\n",
            "C(Neighborhood)[T.Cinecittà]        -576.6392     21.833    -26.411      0.000    -619.450    -533.828\n",
            "C(Neighborhood)[T.Collatino]        -558.5940     22.096    -25.280      0.000    -601.920    -515.268\n",
            "C(Neighborhood)[T.EUR]              -405.4781     26.293    -15.421      0.000    -457.034    -353.922\n",
            "C(Neighborhood)[T.Infernetto]       -611.4819     22.913    -26.687      0.000    -656.410    -566.554\n",
            "C(Neighborhood)[T.Magliana]         -604.9179     33.374    -18.125      0.000    -670.359    -539.477\n",
            "C(Neighborhood)[T.Marconi]          -488.0083     24.478    -19.936      0.000    -536.006    -440.010\n",
            "C(Neighborhood)[T.Montagnola]       -476.6568     25.016    -19.054      0.000    -525.710    -427.604\n",
            "C(Neighborhood)[T.Monte sacro]      -515.1372     22.193    -23.212      0.000    -558.653    -471.622\n",
            "C(Neighborhood)[T.Monti]            -110.6830     22.768     -4.861      0.000    -155.326     -66.040\n",
            "C(Neighborhood)[T.Ostia]            -552.8986     26.273    -21.044      0.000    -604.415    -501.382\n",
            "C(Neighborhood)[T.Parioli]          -210.0433     21.558     -9.743      0.000    -252.315    -167.772\n",
            "C(Neighborhood)[T.Piazza Navona]     235.9211     21.959     10.744      0.000     192.864     278.978\n",
            "C(Neighborhood)[T.Portuense]        -504.6863     30.060    -16.789      0.000    -563.629    -445.744\n",
            "C(Neighborhood)[T.Prati]            -173.5056     21.927     -7.913      0.000    -216.500    -130.511\n",
            "C(Neighborhood)[T.Termini]          -257.1759     23.601    -10.897      0.000    -303.452    -210.899\n",
            "C(Neighborhood)[T.Testaccio]        -203.4754     29.002     -7.016      0.000    -260.344    -146.607\n",
            "C(Neighborhood)[T.Trastevere]        -69.7784     23.445     -2.976      0.003    -115.750     -23.807\n",
            "C(Neighborhood)[T.Trigoria]         -534.0108     26.639    -20.047      0.000    -586.244    -481.777\n",
            "C(Property_type)[T.House]              1.7588     30.041      0.059      0.953     -57.146      60.663\n",
            "C(Property_type)[T.Penthouse]          8.1617     11.780      0.693      0.488     -14.937      31.261\n",
            "C(Property_type)[T.Villa]            -35.0846     39.993     -0.877      0.380    -113.504      43.335\n",
            "C(Floor_type)[T.Mezzanine]            35.7471     11.779      3.035      0.002      12.651      58.844\n",
            "C(Floor_type)[T.Upper]                20.8515      7.204      2.895      0.004       6.727      34.976\n",
            "Rooms                                 22.5706      4.048      5.575      0.000      14.633      30.508\n",
            "Surface                                9.5601      0.135     71.026      0.000       9.296       9.824\n",
            "Elevator                              -1.3530      4.615     -0.293      0.769     -10.402       7.696\n",
            "Floor_number                           5.8544      1.484      3.944      0.000       2.944       8.765\n",
            "==============================================================================\n",
            "Omnibus:                      273.782   Durbin-Watson:                   1.995\n",
            "Prob(Omnibus):                  0.000   Jarque-Bera (JB):             1182.785\n",
            "Skew:                          -0.388   Prob(JB):                    1.45e-257\n",
            "Kurtosis:                       6.088   Cond. No.                     3.53e+03\n",
            "==============================================================================\n",
            "\n",
            "Warnings:\n",
            "[1] Standard Errors assume that the covariance matrix of the errors is correctly specified.\n",
            "[2] The condition number is large, 3.53e+03. This might indicate that there are\n",
            "strong multicollinearity or other numerical problems.\n"
          ],
          "name": "stdout"
        }
      ]
    },
    {
      "cell_type": "markdown",
      "metadata": {
        "id": "s5AgnBdMrtWF"
      },
      "source": [
        "It's time to predict the values of the rents in the test set (it's what function *predict()* does) and, then, calculate two metrics for scoring our regression. In particular, we can calculate:\n",
        "*   $\\text{R}^{2}$: Coefficient of determination, thanks to the function `r2_score()`, which takes as parameters the two columns to compare, and\n",
        "*   $\\text{RMSE}$: Root Mean Squared Error, which gives us an idea of the level of error to expect (we need to combine functions `mean_squared_error()` and `np.sqrt()` to make the calculation).\n",
        "\n"
      ]
    },
    {
      "cell_type": "code",
      "metadata": {
        "colab": {
          "base_uri": "https://localhost:8080/"
        },
        "id": "qGnT7tEvPJpY",
        "outputId": "705d643b-f8f0-4bb0-b154-68c765784587"
      },
      "source": [
        "predictions =  model.predict(test_set) # Predict target on Test set\n",
        "print('R2 score is',r2_score(test_set.Rent,predictions)) # Calculate coefficient of determination\n",
        "print('Root Mean Squared Error is',np.sqrt(mean_squared_error(test_set.Rent,predictions))) # Calculate RMSE"
      ],
      "execution_count": 5,
      "outputs": [
        {
          "output_type": "stream",
          "text": [
            "R2 score is 0.9226958261676464\n",
            "Root Mean Squared Error is 112.6443305634815\n"
          ],
          "name": "stdout"
        }
      ]
    }
  ]
}